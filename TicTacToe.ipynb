{
 "cells": [
  {
   "cell_type": "markdown",
   "metadata": {
    "id": "aAjb_hDyTKQh"
   },
   "source": [
    "# Tic Tac Toe Game \n",
    "##### Scratch Building\n",
    "##### No GUI Required "
   ]
  },
  {
   "cell_type": "markdown",
   "metadata": {
    "id": "NG1KZg4sTKQj"
   },
   "source": [
    "#### Some suggested tools before you get started:\n",
    "To take input from a user:\n",
    "\n",
    "    player1 = input(\"Please pick a marker 'X' or 'O'\")\n",
    "    \n",
    "Note that input() takes in a string. If you need an integer value, use\n",
    "\n",
    "    position = int(input('Please enter a number'))\n",
    "    \n",
    "<br>To clear the screen between moves:\n",
    "\n",
    "    from IPython.display import clear_output\n",
    "    clear_output()\n",
    "    \n",
    "Note that clear_output() will only work in jupyter. To clear the screen in other IDEs, consider:\n",
    "\n",
    "    print('\\n'*100)\n",
    "    \n",
    "This scrolls the previous board up out of view. Now on to the program!"
   ]
  },
  {
   "cell_type": "markdown",
   "metadata": {
    "id": "eq31aKoKTKQk"
   },
   "source": [
    "**Step 1: Write a function that can print out a board. Set up your board as a list, where each index 1-9 corresponds with a number on a number pad, so you get a 3 by 3 board representation.**"
   ]
  },
  {
   "cell_type": "code",
   "execution_count": 13,
   "metadata": {
    "id": "v6oZEXZXTKQl"
   },
   "outputs": [],
   "source": [
    "from IPython.display import clear_output\n",
    "\n",
    "def display_board(board):\n",
    "    clear_output\n",
    "    print (board[0],'|',board[1],'|',board[2])\n",
    "    print (board[3],'|',board[4],'|',board[5])\n",
    "    print (board[6],'|',board[7],'|',board[8])\n",
    "    \n"
   ]
  },
  {
   "cell_type": "markdown",
   "metadata": {
    "id": "YE-nz_ETTKQo"
   },
   "source": [
    "**TEST Step 1:** run your function on a test version of the board list, and make adjustments as necessary"
   ]
  },
  {
   "cell_type": "code",
   "execution_count": 14,
   "metadata": {
    "colab": {
     "base_uri": "https://localhost:8080/",
     "height": 121
    },
    "id": "4iQ9D-u5TKQp",
    "outputId": "59ff7cb4-7211-4d99-f8bf-2ca4167db697"
   },
   "outputs": [
    {
     "name": "stdout",
     "output_type": "stream",
     "text": [
      "X | O | X\n",
      "O | X | O\n",
      "X | O | X\n"
     ]
    }
   ],
   "source": [
    "test_board = ['X','O','X','O','X','O','X','O','X']\n",
    "# test_board = ['','','','','','','','','']\n",
    "display_board(test_board)"
   ]
  },
  {
   "cell_type": "markdown",
   "metadata": {
    "id": "WxeUw0FhTKQr"
   },
   "source": [
    "**Step 2: Write a function that can take in a player input and assign their marker as 'X' or 'O'. Think about using *while* loops to continually ask until you get a correct answer.**"
   ]
  },
  {
   "cell_type": "code",
   "execution_count": 15,
   "metadata": {
    "id": "MG0XC4aXTKQs"
   },
   "outputs": [],
   "source": [
    "def player_input():\n",
    "    marker =''\n",
    "    while marker !='X' and marker != 'O':\n",
    "        marker = input(\"Player 1 choose X or O:\").upper()\n",
    "        \n",
    "    if marker == 'X':\n",
    "        return ('X','O')\n",
    "    else:\n",
    "        return ('O','X')"
   ]
  },
  {
   "cell_type": "markdown",
   "metadata": {
    "id": "6fVimbgzTKQu"
   },
   "source": [
    "**TEST Step 2:** run the function to make sure it returns the desired output"
   ]
  },
  {
   "cell_type": "code",
   "execution_count": 143,
   "metadata": {
    "id": "PJSO5QX1TKQu"
   },
   "outputs": [
    {
     "name": "stdout",
     "output_type": "stream",
     "text": [
      "Player 1 choose X or O:x\n"
     ]
    },
    {
     "data": {
      "text/plain": [
       "('X', 'O')"
      ]
     },
     "execution_count": 143,
     "metadata": {},
     "output_type": "execute_result"
    }
   ],
   "source": [
    "player_input()"
   ]
  },
  {
   "cell_type": "markdown",
   "metadata": {
    "id": "aQN1q9gGTKQw"
   },
   "source": [
    "**Step 3: Write a function that takes in the board list object, a marker ('X' or 'O'), and a desired position (number 1-9) and assigns it to the board.**"
   ]
  },
  {
   "cell_type": "code",
   "execution_count": 17,
   "metadata": {},
   "outputs": [
    {
     "data": {
      "text/plain": [
       "True"
      ]
     },
     "execution_count": 17,
     "metadata": {},
     "output_type": "execute_result"
    }
   ],
   "source": [
    "test_board = [None] *9 \n",
    "\n",
    "test_board[0] == None"
   ]
  },
  {
   "cell_type": "code",
   "execution_count": 16,
   "metadata": {
    "id": "drK45WDaTKQx"
   },
   "outputs": [],
   "source": [
    "def place_marker(board, marker, position):\n",
    "    while 1:\n",
    "        try:\n",
    "            if marker == 'X' or marker == 'O':\n",
    "                if board[position] == None  or board[position]=='':\n",
    "                    board[position] = marker\n",
    "                    marker = 0\n",
    "            else:\n",
    "                print(\"Enter Valid Marker\")        \n",
    "        except:\n",
    "            print('Enter the marker in Valid position ')\n",
    "            continue\n",
    "        else:\n",
    "            break"
   ]
  },
  {
   "cell_type": "code",
   "execution_count": 28,
   "metadata": {},
   "outputs": [],
   "source": [
    "a = ['X','O','','','','','','','']\n"
   ]
  },
  {
   "cell_type": "code",
   "execution_count": 31,
   "metadata": {},
   "outputs": [
    {
     "name": "stdout",
     "output_type": "stream",
     "text": [
      "Enter The Marker in  another Position \n",
      "['X', 'O', 'X', '', '', '', '', '', '']\n"
     ]
    }
   ],
   "source": [
    "place_marker(a,'X',2)\n"
   ]
  },
  {
   "cell_type": "markdown",
   "metadata": {
    "id": "gapk660ATKQz"
   },
   "source": [
    "**TEST Step 3:** run the place marker function using test parameters and display the modified board"
   ]
  },
  {
   "cell_type": "code",
   "execution_count": 192,
   "metadata": {
    "id": "4vIDyBjrTKQ0"
   },
   "outputs": [
    {
     "name": "stdout",
     "output_type": "stream",
     "text": [
      "Enter Valid Marker\n"
     ]
    }
   ],
   "source": [
    "place_marker(test_board,'$',8)\n"
   ]
  },
  {
   "cell_type": "markdown",
   "metadata": {
    "id": "vRuvrYsVTKQ2"
   },
   "source": [
    "**Step 4: Write a function that takes in a board and a mark (X or O) and then checks to see if that mark has won. **"
   ]
  },
  {
   "cell_type": "code",
   "execution_count": 17,
   "metadata": {
    "id": "Zl_L_t1xTKQ2"
   },
   "outputs": [],
   "source": [
    "def win_check(board, mark):    \n",
    "    return(( board[0]==mark and board[1] ==mark and board[2] == mark)or\n",
    "           (board[0]==mark and board[3] ==mark and board[6]==mark)or\n",
    "           (board[3]==mark and board[4] ==mark and board[5]==mark)or\n",
    "           (board[6]== mark and board[7] ==mark and board[8]==mark)or\n",
    "           (board[1]==mark and board[4] ==mark and board[7]==mark)or\n",
    "           (board[2]== mark and board[5] == mark and board[8]==mark)or\n",
    "           (board[0]== mark and board[4] == mark and board[8]==mark)or\n",
    "           (board[2]== mark and  board[4] ==mark and board[6]==mark))"
   ]
  },
  {
   "cell_type": "markdown",
   "metadata": {
    "id": "D9tY6vCHTKQ4"
   },
   "source": [
    "**TEST Step 4:** run the win_check function against our test_board - it should return True"
   ]
  },
  {
   "cell_type": "code",
   "execution_count": 170,
   "metadata": {},
   "outputs": [
    {
     "name": "stdout",
     "output_type": "stream",
     "text": [
      "  |   | \n",
      "X | O | O\n",
      "__|___|___\n",
      "  |   | \n",
      "O | X | O\n",
      "__|___|___\n",
      "  |   | \n",
      "X | O | X\n"
     ]
    }
   ],
   "source": [
    "test_board = ['X','O','O','O','X','O','X','O','X']\n",
    "display_board(test_board)"
   ]
  },
  {
   "cell_type": "code",
   "execution_count": 171,
   "metadata": {
    "id": "W_rBIIOCTKQ5"
   },
   "outputs": [
    {
     "data": {
      "text/plain": [
       "False"
      ]
     },
     "execution_count": 171,
     "metadata": {},
     "output_type": "execute_result"
    }
   ],
   "source": [
    "win_check(test_board,'O')"
   ]
  },
  {
   "cell_type": "markdown",
   "metadata": {
    "id": "ROj56ItpTKQ7"
   },
   "source": [
    "**Step 5: Write a function that uses the random module to randomly decide which player goes first. You may want to lookup random.randint() Return a string of which player went first.**"
   ]
  },
  {
   "cell_type": "code",
   "execution_count": 18,
   "metadata": {
    "id": "NMgrAjU3TKQ7"
   },
   "outputs": [],
   "source": [
    "import random\n",
    "\n",
    "def choose_first():\n",
    "    num = random.randint(0,1)\n",
    "    if num == 0 :\n",
    "        return 'Player_1'\n",
    "    else:\n",
    "        return 'Player_2'  "
   ]
  },
  {
   "cell_type": "code",
   "execution_count": 168,
   "metadata": {},
   "outputs": [
    {
     "data": {
      "text/plain": [
       "'Player_1'"
      ]
     },
     "execution_count": 168,
     "metadata": {},
     "output_type": "execute_result"
    }
   ],
   "source": [
    "choose_first()"
   ]
  },
  {
   "cell_type": "markdown",
   "metadata": {
    "id": "7H1uXKU-TKQ9"
   },
   "source": [
    "**Step 6: Write a function that returns a boolean indicating whether a space on the board is freely available.**"
   ]
  },
  {
   "cell_type": "code",
   "execution_count": 19,
   "metadata": {
    "id": "i0rtv4b3TKQ-"
   },
   "outputs": [],
   "source": [
    "def space_check(board, position):\n",
    "    return (board[position] == None or board[position] == '')"
   ]
  },
  {
   "cell_type": "code",
   "execution_count": 5,
   "metadata": {},
   "outputs": [
    {
     "data": {
      "text/plain": [
       "True"
      ]
     },
     "execution_count": 5,
     "metadata": {},
     "output_type": "execute_result"
    }
   ],
   "source": [
    "tesst =['X','O','X','X','O','X','','O','X'] \n",
    "space_check(tesst,6)"
   ]
  },
  {
   "cell_type": "markdown",
   "metadata": {
    "id": "TKfVJE_KTKRA"
   },
   "source": [
    "**Step 7: Write a function that checks if the board is full and returns a boolean value. True if full, False otherwise.**"
   ]
  },
  {
   "cell_type": "code",
   "execution_count": 20,
   "metadata": {
    "id": "Vsa0TroYTKRB"
   },
   "outputs": [],
   "source": [
    "def full_board_check(board):\n",
    "    for i in range(len(board)):\n",
    "        if space_check(board,i):\n",
    "            return False\n",
    "    else:\n",
    "        return True    "
   ]
  },
  {
   "cell_type": "code",
   "execution_count": 161,
   "metadata": {},
   "outputs": [
    {
     "data": {
      "text/plain": [
       "False"
      ]
     },
     "execution_count": 161,
     "metadata": {},
     "output_type": "execute_result"
    }
   ],
   "source": [
    "full_board_check(tesst)"
   ]
  },
  {
   "cell_type": "markdown",
   "metadata": {
    "id": "ju-R3rRATKRD"
   },
   "source": [
    "**Step 8: Write a function that asks for a player's next position (as a number 1-9) and then uses the function from step 6 to check if it's a free position. If it is, then return the position for later use.**"
   ]
  },
  {
   "cell_type": "code",
   "execution_count": 21,
   "metadata": {
    "id": "zLusZVZETKRE"
   },
   "outputs": [],
   "source": [
    "def player_choice(board):\n",
    "    while 1:\n",
    "        position = int(input('Enter The postion as number from 1 to 9:'))\n",
    "        if position in range(1,10):\n",
    "            check =space_check(board,position-1)\n",
    "            if check ==True:\n",
    "                return position-1\n",
    "            else:\n",
    "                print('This position is full')\n",
    "                continue\n",
    "        else:\n",
    "            print('Enter Valid Position')\n",
    "            "
   ]
  },
  {
   "cell_type": "code",
   "execution_count": 12,
   "metadata": {},
   "outputs": [
    {
     "name": "stdout",
     "output_type": "stream",
     "text": [
      "Enter The postion as number from 1 to 9:9\n",
      "This position is full\n",
      "Enter The postion as number from 1 to 9:7\n"
     ]
    },
    {
     "data": {
      "text/plain": [
       "6"
      ]
     },
     "execution_count": 12,
     "metadata": {},
     "output_type": "execute_result"
    }
   ],
   "source": [
    "player_choice(tesst)"
   ]
  },
  {
   "cell_type": "markdown",
   "metadata": {
    "id": "E9ryWxTdTKRG"
   },
   "source": [
    "**Step 9: Write a function that asks the player if they want to play again and returns a boolean True if they do want to play again.**"
   ]
  },
  {
   "cell_type": "code",
   "execution_count": 22,
   "metadata": {
    "id": "1_Nt3ngsTKRG"
   },
   "outputs": [],
   "source": [
    "def replay():\n",
    "    return input('Do you want to play again? Enter Yes or No: ').lower().startswith('y')\n"
   ]
  },
  {
   "cell_type": "code",
   "execution_count": 180,
   "metadata": {},
   "outputs": [
    {
     "data": {
      "text/plain": [
       "''"
      ]
     },
     "execution_count": 180,
     "metadata": {},
     "output_type": "execute_result"
    }
   ],
   "source": [
    "# replay()\n",
    "board = [''] *9\n",
    "board[0]"
   ]
  },
  {
   "cell_type": "markdown",
   "metadata": {
    "collapsed": true,
    "id": "gjLdHz0MTKRI"
   },
   "source": [
    "**Step 10: Here comes the hard part! Use while loops and the functions you've made to run the game!**"
   ]
  },
  {
   "cell_type": "code",
   "execution_count": 23,
   "metadata": {
    "id": "84vKO9k9TKRJ"
   },
   "outputs": [
    {
     "name": "stdout",
     "output_type": "stream",
     "text": [
      "Welcome to Tic Tac Toe!\n",
      "Player 1 choose X or O:x\n",
      "Player_2 goes First\n",
      "Do you want to start ? Yes or no : y\n",
      " |  | \n",
      " |  | \n",
      " |  | \n",
      "Enter The postion as number from 1 to 9:1\n",
      "O |  | \n",
      " |  | \n",
      " |  | \n",
      "Enter The postion as number from 1 to 9:1\n",
      "This position is full\n",
      "Enter The postion as number from 1 to 9:2\n",
      "O | X | \n",
      " |  | \n",
      " |  | \n",
      "Enter The postion as number from 1 to 9:3\n",
      "O | X | O\n",
      " |  | \n",
      " |  | \n",
      "Enter The postion as number from 1 to 9:4\n",
      "O | X | O\n",
      "X |  | \n",
      " |  | \n",
      "Enter The postion as number from 1 to 9:5\n",
      "O | X | O\n",
      "X | O | \n",
      " |  | \n",
      "Enter The postion as number from 1 to 9:6\n",
      "O | X | O\n",
      "X | O | X\n",
      " |  | \n",
      "Enter The postion as number from 1 to 9:1\n",
      "This position is full\n",
      "Enter The postion as number from 1 to 9:7\n",
      "O | X | O\n",
      "X | O | X\n",
      "O |  | \n",
      "Player 2 has won\n",
      "Do you want to play again? Enter Yes or No: n\n"
     ]
    }
   ],
   "source": [
    "print('Welcome to Tic Tac Toe!')\n",
    "\n",
    "while True:\n",
    "    # Set the game up here\n",
    "    #pass\n",
    "    board = [''] *9\n",
    "    player_1_marker ,player_2_marker = player_input()\n",
    "    turn = choose_first()\n",
    "    print(turn + ' goes First')\n",
    "    game_on = input('Do you want to start ? Yes or no : ').lower().startswith('y')\n",
    "    while game_on:\n",
    "        if turn == 'Player_1':\n",
    "            display_board(board)\n",
    "            position = player_choice(board)\n",
    "            place_marker(board,player_1_marker,position)\n",
    "            if win_check(board,player_1_marker):\n",
    "                display_board(board)\n",
    "                print('Player 1 has won')\n",
    "                game_on = False\n",
    "            if full_board_check(board):\n",
    "                display_board(board)\n",
    "                print('Draw!')\n",
    "                break\n",
    "            else:\n",
    "                turn = 'Player_2'\n",
    "                    \n",
    "        # Player2's turn.\n",
    "                    \n",
    "        if turn == 'Player_2':\n",
    "            display_board(board)\n",
    "            position = player_choice(board)\n",
    "            place_marker(board,player_2_marker,position)\n",
    "            if win_check(board,player_2_marker):\n",
    "                display_board(board)\n",
    "                print('Player 2 has won')\n",
    "                game_on = False\n",
    "            if full_board_check(board):\n",
    "                display_board(board)\n",
    "                print('Draw!')\n",
    "                break \n",
    "            else:\n",
    "                turn = 'Player_1'    \n",
    "        \n",
    "            #pass\n",
    "\n",
    "    if not replay():\n",
    "        break"
   ]
  },
  {
   "cell_type": "markdown",
   "metadata": {
    "collapsed": true,
    "id": "V3AlA00FTKRL"
   },
   "source": [
    "## Good Job!"
   ]
  },
  {
   "cell_type": "code",
   "execution_count": null,
   "metadata": {},
   "outputs": [],
   "source": []
  }
 ],
 "metadata": {
  "colab": {
   "name": "TicTacToe.ipynb",
   "provenance": []
  },
  "kernelspec": {
   "display_name": "Python 3",
   "language": "python",
   "name": "python3"
  },
  "language_info": {
   "codemirror_mode": {
    "name": "ipython",
    "version": 3
   },
   "file_extension": ".py",
   "mimetype": "text/x-python",
   "name": "python",
   "nbconvert_exporter": "python",
   "pygments_lexer": "ipython3",
   "version": "3.8.3"
  }
 },
 "nbformat": 4,
 "nbformat_minor": 1
}
